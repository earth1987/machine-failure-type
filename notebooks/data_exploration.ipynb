{
 "cells": [
  {
   "cell_type": "code",
   "execution_count": 19,
   "id": "90c9863a-f309-460a-aee0-0bc2d3ecdd3c",
   "metadata": {},
   "outputs": [],
   "source": [
    "from matplotlib import pyplot as plt\n",
    "import numpy as np\n",
    "import pandas as pd\n",
    "import random\n",
    "from scipy.stats import probplot\n",
    "from sklearn.model_selection import train_test_split\n",
    "import seaborn as sns\n",
    "\n",
    "import sys\n",
    "sys.path.insert(0, \"C:\\\\Users\\\\billy\\\\OneDrive\\\\Documents\\\\Python Scripts\\\\1. Portfolio\\\\machine-failure\\\\machine-failure\")\n",
    "import custom_funcs as cf"
   ]
  },
  {
   "cell_type": "markdown",
   "id": "aba03e01-5f55-4c64-bd9d-d0ebf82f2ba8",
   "metadata": {},
   "source": [
    "# Predicting type of machine failure\n",
    "\n",
    "* Predicting machine failure through machine learning is paramount for efficient industrial operations. By analysing data patterns, ML models can forecast potential breakdowns, allowing for proactive maintenance and minimising downtime. This predictive approach not only enhances equipment reliability but also optimises resource allocation.\n",
    "\n",
    "* This workbook details the exploration of [The AI4I 2020 Predictive Maintenance Dataset](https://archive.ics.uci.edu/dataset/601/ai4i+2020+predictive+maintenance+dataset). This is a synthetic that reflects real predictive maintenance data encountered in industry."
   ]
  },
  {
   "cell_type": "markdown",
   "id": "5fd7ae0e-664b-44f4-ab8b-85ec2fb96c79",
   "metadata": {},
   "source": [
    "# Summary\n",
    "\n",
    "Descriptive statistics and frequency distributions are computed for all variables during data exploration & cleansing. Key observations and actions are outlined below.\n",
    "\n",
    "1. Erroneous Data\n",
    "   \n",
    "    * No duplicate rows are present.\n",
    "    \n",
    "    * Data exploration did not reveal any errors.\n",
    "  \n",
    "2. Distributions\n",
    "\n",
    "    * A relatively uniform distribution is observed for Tool Wear\n",
    "    \n",
    "    * A positive skew is exhibited by Rotational Speed.\n",
    "    \n",
    "    * The Air Temperature, Process Temperature and Torque variables' distributions appear roughly normal.\n",
    "  \n",
    "    * No duplicate values are present in cust_unique_id.\n",
    "    \n",
    "    * The distributions of gender, ethnicity_group and geo_region are imbalanced.\n",
    "    \n",
    "    * One of the gender categories is called '999'. The meaning is unclear.\n",
    "  \n",
    "3. Missing values\n",
    "\n",
    "    * No missing values are present.\n",
    "  \n",
    "4. Outliers\n",
    "\n",
    "    * The Rotational Speed column has a positive skew. However, no outliers are obviously present.\n",
    "    \n",
    "        Note: The influence of large values on later modelling will be assessed. If a point significantly affects outcomes, it may be excluded."
   ]
  },
  {
   "cell_type": "markdown",
   "id": "0a90f419-c2a7-4e22-a339-71dc8655fe99",
   "metadata": {},
   "source": [
    "# Import raw data"
   ]
  },
  {
   "cell_type": "markdown",
   "id": "5f7bc306-704a-4007-a1df-ffd4ea312814",
   "metadata": {},
   "source": [
    "|Variable|Definition|\n",
    "|---|---|\n",
    "| UID | Unique identifier ranging from 1 to 10000 |\n",
    "| productID | Consisting of a letter L, M, or H for low (50% of all products), medium (30%), and high (20%) as product quality variants and a variant-specific serial number |\n",
    "| air temperature K | Generated using a random walk process later normalized to a standard deviation of 2 K around 300 K |\n",
    "| process temperature K | Generated using a random walk process normalized to a standard deviation of 1 K, added to the air temperature plus 10 K. |\n",
    "| rotational speed rpm | Calculated from power of 2860 W, overlaid with a normally distributed noise |\n",
    "| torque Nm | Torque values are normally distributed around 40 Nm with an Ïƒ = 10 Nm and no negative values. |\n",
    "| tool wear min | The quality variants H/M/L add 5/3/2 minutes of tool wear to the used tool in the process. |\n",
    "| target | Failure or not. |\n",
    "| Failure type | Type of failure. |"
   ]
  },
  {
   "cell_type": "code",
   "execution_count": 20,
   "id": "4c66ddd4-1142-4edd-9e85-21fbac39aa13",
   "metadata": {},
   "outputs": [
    {
     "data": {
      "text/html": [
       "<div>\n",
       "<style scoped>\n",
       "    .dataframe tbody tr th:only-of-type {\n",
       "        vertical-align: middle;\n",
       "    }\n",
       "\n",
       "    .dataframe tbody tr th {\n",
       "        vertical-align: top;\n",
       "    }\n",
       "\n",
       "    .dataframe thead th {\n",
       "        text-align: right;\n",
       "    }\n",
       "</style>\n",
       "<table border=\"1\" class=\"dataframe\">\n",
       "  <thead>\n",
       "    <tr style=\"text-align: right;\">\n",
       "      <th></th>\n",
       "      <th>UDI</th>\n",
       "      <th>Product ID</th>\n",
       "      <th>Type</th>\n",
       "      <th>Air temperature [K]</th>\n",
       "      <th>Process temperature [K]</th>\n",
       "      <th>Rotational speed [rpm]</th>\n",
       "      <th>Torque [Nm]</th>\n",
       "      <th>Tool wear [min]</th>\n",
       "      <th>Target</th>\n",
       "      <th>Failure Type</th>\n",
       "    </tr>\n",
       "  </thead>\n",
       "  <tbody>\n",
       "    <tr>\n",
       "      <th>0</th>\n",
       "      <td>1</td>\n",
       "      <td>M14860</td>\n",
       "      <td>M</td>\n",
       "      <td>298.1</td>\n",
       "      <td>308.6</td>\n",
       "      <td>1551</td>\n",
       "      <td>42.8</td>\n",
       "      <td>0</td>\n",
       "      <td>0</td>\n",
       "      <td>No Failure</td>\n",
       "    </tr>\n",
       "    <tr>\n",
       "      <th>1</th>\n",
       "      <td>2</td>\n",
       "      <td>L47181</td>\n",
       "      <td>L</td>\n",
       "      <td>298.2</td>\n",
       "      <td>308.7</td>\n",
       "      <td>1408</td>\n",
       "      <td>46.3</td>\n",
       "      <td>3</td>\n",
       "      <td>0</td>\n",
       "      <td>No Failure</td>\n",
       "    </tr>\n",
       "    <tr>\n",
       "      <th>2</th>\n",
       "      <td>3</td>\n",
       "      <td>L47182</td>\n",
       "      <td>L</td>\n",
       "      <td>298.1</td>\n",
       "      <td>308.5</td>\n",
       "      <td>1498</td>\n",
       "      <td>49.4</td>\n",
       "      <td>5</td>\n",
       "      <td>0</td>\n",
       "      <td>No Failure</td>\n",
       "    </tr>\n",
       "    <tr>\n",
       "      <th>3</th>\n",
       "      <td>4</td>\n",
       "      <td>L47183</td>\n",
       "      <td>L</td>\n",
       "      <td>298.2</td>\n",
       "      <td>308.6</td>\n",
       "      <td>1433</td>\n",
       "      <td>39.5</td>\n",
       "      <td>7</td>\n",
       "      <td>0</td>\n",
       "      <td>No Failure</td>\n",
       "    </tr>\n",
       "    <tr>\n",
       "      <th>4</th>\n",
       "      <td>5</td>\n",
       "      <td>L47184</td>\n",
       "      <td>L</td>\n",
       "      <td>298.2</td>\n",
       "      <td>308.7</td>\n",
       "      <td>1408</td>\n",
       "      <td>40.0</td>\n",
       "      <td>9</td>\n",
       "      <td>0</td>\n",
       "      <td>No Failure</td>\n",
       "    </tr>\n",
       "  </tbody>\n",
       "</table>\n",
       "</div>"
      ],
      "text/plain": [
       "   UDI Product ID Type  Air temperature [K]  Process temperature [K]  \\\n",
       "0    1     M14860    M                298.1                    308.6   \n",
       "1    2     L47181    L                298.2                    308.7   \n",
       "2    3     L47182    L                298.1                    308.5   \n",
       "3    4     L47183    L                298.2                    308.6   \n",
       "4    5     L47184    L                298.2                    308.7   \n",
       "\n",
       "   Rotational speed [rpm]  Torque [Nm]  Tool wear [min]  Target Failure Type  \n",
       "0                    1551         42.8                0       0   No Failure  \n",
       "1                    1408         46.3                3       0   No Failure  \n",
       "2                    1498         49.4                5       0   No Failure  \n",
       "3                    1433         39.5                7       0   No Failure  \n",
       "4                    1408         40.0                9       0   No Failure  "
      ]
     },
     "execution_count": 20,
     "metadata": {},
     "output_type": "execute_result"
    }
   ],
   "source": [
    "raw_df = pd.read_csv(cf.file_directory(\"raw\") + \"predictive_maintenance.csv\")\n",
    "raw_df.head()"
   ]
  },
  {
   "cell_type": "code",
   "execution_count": 21,
   "id": "8ca82cf6-7153-457b-a364-5c1c6cd421ad",
   "metadata": {},
   "outputs": [
    {
     "name": "stdout",
     "output_type": "stream",
     "text": [
      "Number of rows: 10000\n",
      "Number of columns: 10\n"
     ]
    }
   ],
   "source": [
    "# Dimensions\n",
    "print(f\"Number of rows: {raw_df.shape[0]}\")\n",
    "print(f\"Number of columns: {raw_df.shape[1]}\")"
   ]
  },
  {
   "cell_type": "markdown",
   "id": "3016d65c-da53-443b-b1a9-3e5fca9c65c0",
   "metadata": {},
   "source": [
    "# Data exploration"
   ]
  },
  {
   "cell_type": "markdown",
   "id": "e287ad97-f140-43ac-b04b-604745d64eb9",
   "metadata": {},
   "source": [
    "## Variable types"
   ]
  },
  {
   "cell_type": "markdown",
   "id": "3d5730d4-5f82-41e7-a94d-194a7270ce99",
   "metadata": {},
   "source": [
    "**1) Categorical variables**\n",
    "\n",
    "* Nominal variables = Categories or groups that have *no* inherent order or ranking.\n",
    "  \n",
    "* Ordinal variables = Categories or groups with a meaningful order or ranking.\n",
    "\n",
    "    Note: It differs from the interval scale and ratio scale by not having category widths that represent equal increments of the underlying attribute\n",
    "\n",
    "|Variable|Definition|Type|\n",
    "|---|---|---|\n",
    "| UID | Unique identifier ranging from 1 to 10000 | Nominal/ordinal |\n",
    "| productID | Consisting of a letter L, M, or H for low (50% of all products), medium (30%), and high (20%) as product quality variants and a variant-specific serial number | Nominal |\n",
    "| target | Failure or not. | Nominal |\n",
    "| Failure type | Type of failure. | Nominal |"
   ]
  },
  {
   "cell_type": "markdown",
   "id": "ba2b8bef-7d08-46c3-b02a-43a14a2ab81b",
   "metadata": {},
   "source": [
    "**2) Continuous variables**\n",
    "\n",
    "* Interval variables = A quantitative scale with a meaningful order or ranking *and* equal distances between adjacent values.\n",
    "\n",
    "    Note: It differs from a ratio variable in that zero is an arbitrary point, not a complete absence of the variable.\n",
    "\n",
    "* Ratio variables = A quantitative scale with a meaningful order or ranking *and* equal distances between adjacent values *and* a true zero.\n",
    "\n",
    "|Variable|Definition|Type|\n",
    "|---|---|---|\n",
    "| air temperature K | Generated using a random walk process later normalized to a standard deviation of 2 K around 300 K | Ratio |\n",
    "| process temperature K | Generated using a random walk process normalized to a standard deviation of 1 K, added to the air temperature plus 10 K. | Ratio |\n",
    "| rotational speed rpm | Calculated from power of 2860 W, overlaid with a normally distributed noise | Ratio |\n",
    "| torque Nm | Torque values are normally distributed around 40 Nm with an Ïƒ = 10 Nm and no negative values. | Ratio |\n",
    "| tool wear min | The quality variants H/M/L add 5/3/2 minutes of tool wear to the used tool in the process. | Ratio |"
   ]
  },
  {
   "cell_type": "markdown",
   "id": "ef4d3909-3219-4536-979a-bf153cd64dc5",
   "metadata": {},
   "source": [
    "## Data types\n",
    "\n",
    "* The data types for the 'UDI' feature is updated to categorical.\n",
    "\n",
    "* The data type for the 'Target' feature is updated to object."
   ]
  },
  {
   "cell_type": "code",
   "execution_count": 22,
   "id": "15080b91-96a1-44cb-98f1-204cb06cd0bf",
   "metadata": {},
   "outputs": [
    {
     "name": "stdout",
     "output_type": "stream",
     "text": [
      "<class 'pandas.core.frame.DataFrame'>\n",
      "RangeIndex: 10000 entries, 0 to 9999\n",
      "Data columns (total 10 columns):\n",
      " #   Column                   Non-Null Count  Dtype  \n",
      "---  ------                   --------------  -----  \n",
      " 0   UDI                      10000 non-null  int64  \n",
      " 1   Product ID               10000 non-null  object \n",
      " 2   Type                     10000 non-null  object \n",
      " 3   Air temperature [K]      10000 non-null  float64\n",
      " 4   Process temperature [K]  10000 non-null  float64\n",
      " 5   Rotational speed [rpm]   10000 non-null  int64  \n",
      " 6   Torque [Nm]              10000 non-null  float64\n",
      " 7   Tool wear [min]          10000 non-null  int64  \n",
      " 8   Target                   10000 non-null  int64  \n",
      " 9   Failure Type             10000 non-null  object \n",
      "dtypes: float64(3), int64(4), object(3)\n",
      "memory usage: 781.4+ KB\n"
     ]
    },
    {
     "data": {
      "text/plain": [
       "None"
      ]
     },
     "metadata": {},
     "output_type": "display_data"
    },
    {
     "name": "stdout",
     "output_type": "stream",
     "text": [
      "\n",
      "\n"
     ]
    },
    {
     "data": {
      "text/plain": [
       "int64      4\n",
       "object     3\n",
       "float64    3\n",
       "Name: count, dtype: int64"
      ]
     },
     "metadata": {},
     "output_type": "display_data"
    }
   ],
   "source": [
    "# Data types\n",
    "display(raw_df.info())\n",
    "print(\"\\n\")\n",
    "display(raw_df.dtypes.value_counts())"
   ]
  },
  {
   "cell_type": "code",
   "execution_count": 23,
   "id": "79383187-5542-4a65-ae7e-46a168089c15",
   "metadata": {},
   "outputs": [
    {
     "name": "stdout",
     "output_type": "stream",
     "text": [
      "Continuous: True\n"
     ]
    }
   ],
   "source": [
    "# Check if cust_unique_id is a continuous sequence of integers\n",
    "min_val, max_val = raw_df['UDI'].min(), raw_df['UDI'].max()\n",
    "expected_sequence = set(range(min_val, max_val + 1))\n",
    "print(f\"Continuous: {set(raw_df['UDI'].unique()) == expected_sequence}\")\n",
    "\n",
    "# Update cust_unique_id -> categorical dtype\n",
    "raw_df['UDI'] = pd.Categorical(raw_df['UDI'], categories=expected_sequence, ordered=True)"
   ]
  },
  {
   "cell_type": "code",
   "execution_count": 24,
   "id": "5019c920-db97-495f-9af1-8758ae4b26fa",
   "metadata": {},
   "outputs": [],
   "source": [
    "# Update dtypes\n",
    "raw_df['Target'] = raw_df['Target'].astype('object')"
   ]
  },
  {
   "cell_type": "markdown",
   "id": "e926c93e-0e1d-4ed9-9832-d184dab74baf",
   "metadata": {},
   "source": [
    "## Summary statistics"
   ]
  },
  {
   "cell_type": "markdown",
   "id": "ad037438-a54d-4d9a-bc9a-31517024cd28",
   "metadata": {},
   "source": [
    "**_1) Continuous variables_**\n",
    "\n",
    "* The mean and median values are similar for each variable. This suggests all continuous variables exhibit symmetric frequency distributions."
   ]
  },
  {
   "cell_type": "code",
   "execution_count": 25,
   "id": "6e3a0062-cf86-4374-9f38-70efa827bcb1",
   "metadata": {},
   "outputs": [
    {
     "data": {
      "text/html": [
       "<div>\n",
       "<style scoped>\n",
       "    .dataframe tbody tr th:only-of-type {\n",
       "        vertical-align: middle;\n",
       "    }\n",
       "\n",
       "    .dataframe tbody tr th {\n",
       "        vertical-align: top;\n",
       "    }\n",
       "\n",
       "    .dataframe thead th {\n",
       "        text-align: right;\n",
       "    }\n",
       "</style>\n",
       "<table border=\"1\" class=\"dataframe\">\n",
       "  <thead>\n",
       "    <tr style=\"text-align: right;\">\n",
       "      <th></th>\n",
       "      <th>Air temperature [K]</th>\n",
       "      <th>Process temperature [K]</th>\n",
       "      <th>Rotational speed [rpm]</th>\n",
       "      <th>Torque [Nm]</th>\n",
       "      <th>Tool wear [min]</th>\n",
       "    </tr>\n",
       "  </thead>\n",
       "  <tbody>\n",
       "    <tr>\n",
       "      <th>count</th>\n",
       "      <td>10000.000000</td>\n",
       "      <td>10000.000000</td>\n",
       "      <td>10000.000000</td>\n",
       "      <td>10000.000000</td>\n",
       "      <td>10000.000000</td>\n",
       "    </tr>\n",
       "    <tr>\n",
       "      <th>mean</th>\n",
       "      <td>300.004930</td>\n",
       "      <td>310.005560</td>\n",
       "      <td>1538.776100</td>\n",
       "      <td>39.986910</td>\n",
       "      <td>107.951000</td>\n",
       "    </tr>\n",
       "    <tr>\n",
       "      <th>std</th>\n",
       "      <td>2.000259</td>\n",
       "      <td>1.483734</td>\n",
       "      <td>179.284096</td>\n",
       "      <td>9.968934</td>\n",
       "      <td>63.654147</td>\n",
       "    </tr>\n",
       "    <tr>\n",
       "      <th>min</th>\n",
       "      <td>295.300000</td>\n",
       "      <td>305.700000</td>\n",
       "      <td>1168.000000</td>\n",
       "      <td>3.800000</td>\n",
       "      <td>0.000000</td>\n",
       "    </tr>\n",
       "    <tr>\n",
       "      <th>25%</th>\n",
       "      <td>298.300000</td>\n",
       "      <td>308.800000</td>\n",
       "      <td>1423.000000</td>\n",
       "      <td>33.200000</td>\n",
       "      <td>53.000000</td>\n",
       "    </tr>\n",
       "    <tr>\n",
       "      <th>50%</th>\n",
       "      <td>300.100000</td>\n",
       "      <td>310.100000</td>\n",
       "      <td>1503.000000</td>\n",
       "      <td>40.100000</td>\n",
       "      <td>108.000000</td>\n",
       "    </tr>\n",
       "    <tr>\n",
       "      <th>75%</th>\n",
       "      <td>301.500000</td>\n",
       "      <td>311.100000</td>\n",
       "      <td>1612.000000</td>\n",
       "      <td>46.800000</td>\n",
       "      <td>162.000000</td>\n",
       "    </tr>\n",
       "    <tr>\n",
       "      <th>max</th>\n",
       "      <td>304.500000</td>\n",
       "      <td>313.800000</td>\n",
       "      <td>2886.000000</td>\n",
       "      <td>76.600000</td>\n",
       "      <td>253.000000</td>\n",
       "    </tr>\n",
       "  </tbody>\n",
       "</table>\n",
       "</div>"
      ],
      "text/plain": [
       "       Air temperature [K]  Process temperature [K]  Rotational speed [rpm]  \\\n",
       "count         10000.000000             10000.000000            10000.000000   \n",
       "mean            300.004930               310.005560             1538.776100   \n",
       "std               2.000259                 1.483734              179.284096   \n",
       "min             295.300000               305.700000             1168.000000   \n",
       "25%             298.300000               308.800000             1423.000000   \n",
       "50%             300.100000               310.100000             1503.000000   \n",
       "75%             301.500000               311.100000             1612.000000   \n",
       "max             304.500000               313.800000             2886.000000   \n",
       "\n",
       "        Torque [Nm]  Tool wear [min]  \n",
       "count  10000.000000     10000.000000  \n",
       "mean      39.986910       107.951000  \n",
       "std        9.968934        63.654147  \n",
       "min        3.800000         0.000000  \n",
       "25%       33.200000        53.000000  \n",
       "50%       40.100000       108.000000  \n",
       "75%       46.800000       162.000000  \n",
       "max       76.600000       253.000000  "
      ]
     },
     "execution_count": 25,
     "metadata": {},
     "output_type": "execute_result"
    }
   ],
   "source": [
    "raw_df.select_dtypes(include=['number']).describe()"
   ]
  },
  {
   "cell_type": "markdown",
   "id": "5521e656-73c6-407a-aab4-ef61be615310",
   "metadata": {},
   "source": [
    "**_2) Categorical variables_**\n",
    "\n",
    "* No duplicate values are present in 'UDI' and 'Product ID'.\n",
    "\n",
    "* The number of unique values in the Type, Target and Failure Type columns is relatively low."
   ]
  },
  {
   "cell_type": "code",
   "execution_count": 26,
   "id": "3b1ca415-1a1b-47c7-8114-cc7606bb47fc",
   "metadata": {},
   "outputs": [
    {
     "data": {
      "text/html": [
       "<div>\n",
       "<style scoped>\n",
       "    .dataframe tbody tr th:only-of-type {\n",
       "        vertical-align: middle;\n",
       "    }\n",
       "\n",
       "    .dataframe tbody tr th {\n",
       "        vertical-align: top;\n",
       "    }\n",
       "\n",
       "    .dataframe thead th {\n",
       "        text-align: right;\n",
       "    }\n",
       "</style>\n",
       "<table border=\"1\" class=\"dataframe\">\n",
       "  <thead>\n",
       "    <tr style=\"text-align: right;\">\n",
       "      <th></th>\n",
       "      <th>UDI</th>\n",
       "      <th>Product ID</th>\n",
       "      <th>Type</th>\n",
       "      <th>Target</th>\n",
       "      <th>Failure Type</th>\n",
       "    </tr>\n",
       "  </thead>\n",
       "  <tbody>\n",
       "    <tr>\n",
       "      <th>count</th>\n",
       "      <td>10000</td>\n",
       "      <td>10000</td>\n",
       "      <td>10000</td>\n",
       "      <td>10000</td>\n",
       "      <td>10000</td>\n",
       "    </tr>\n",
       "    <tr>\n",
       "      <th>unique</th>\n",
       "      <td>10000</td>\n",
       "      <td>10000</td>\n",
       "      <td>3</td>\n",
       "      <td>2</td>\n",
       "      <td>6</td>\n",
       "    </tr>\n",
       "    <tr>\n",
       "      <th>top</th>\n",
       "      <td>1</td>\n",
       "      <td>M14860</td>\n",
       "      <td>L</td>\n",
       "      <td>0</td>\n",
       "      <td>No Failure</td>\n",
       "    </tr>\n",
       "    <tr>\n",
       "      <th>freq</th>\n",
       "      <td>1</td>\n",
       "      <td>1</td>\n",
       "      <td>6000</td>\n",
       "      <td>9661</td>\n",
       "      <td>9652</td>\n",
       "    </tr>\n",
       "  </tbody>\n",
       "</table>\n",
       "</div>"
      ],
      "text/plain": [
       "          UDI Product ID   Type  Target Failure Type\n",
       "count   10000      10000  10000   10000        10000\n",
       "unique  10000      10000      3       2            6\n",
       "top         1     M14860      L       0   No Failure\n",
       "freq        1          1   6000    9661         9652"
      ]
     },
     "execution_count": 26,
     "metadata": {},
     "output_type": "execute_result"
    }
   ],
   "source": [
    "raw_df.select_dtypes(include=['object', 'category']).describe()"
   ]
  },
  {
   "cell_type": "markdown",
   "id": "a9ff3192-beac-46ac-8108-5287d6f36593",
   "metadata": {},
   "source": [
    "## Frequency distributions"
   ]
  },
  {
   "cell_type": "markdown",
   "id": "32bf6dd2-24ba-4642-be62-f6ca3c3d900c",
   "metadata": {},
   "source": [
    "**_1) Continuous variables_**\n",
    "\n",
    "* A relatively uniform distribution is observed for Tool Wear\n",
    "\n",
    "* A positive skew is exhibited by Rotational Speed.\n",
    "\n",
    "* The Air Temperature, Process Temperature and Torque variables' distributions appear roughly normal."
   ]
  },
  {
   "cell_type": "code",
   "execution_count": 27,
   "id": "0139d730-58b0-46fd-8e0b-45943d5d0451",
   "metadata": {},
   "outputs": [
    {
     "data": {
      "image/png": "[encoded data removed]",
      "text/plain": [
       "<Figure size 640x480 with 5 Axes>"
      ]
     },
     "metadata": {},
     "output_type": "display_data"
    }
   ],
   "source": [
    "fig, axes = plt.subplots(\n",
    "    nrows=2, ncols=3, constrained_layout=True, figsize=(6.4, 4.8))\n",
    "i = 0\n",
    "axes = axes.flatten()\n",
    "for col in raw_df.select_dtypes(include=['number']).columns:\n",
    "    axes[i].hist(raw_df[col], color='dimgray', alpha=0.8, label='')\n",
    "    axes[i].set_title(col, fontsize=10, color='dimgray')\n",
    "    i += 1\n",
    "\n",
    "for ax in axes:\n",
    "    ax.tick_params(bottom=False, left=False)\n",
    "    ax.grid(False)\n",
    "    ax.spines[['top', 'right']].set_visible(False)\n",
    "    ax.spines[['left', 'bottom']].set_color('dimgray')\n",
    "fig.delaxes(axes[5])"
   ]
  },
  {
   "cell_type": "markdown",
   "id": "ce36e92f-e2b2-43f8-956b-d683efe8c65a",
   "metadata": {},
   "source": [
    "**Quantile–quantile plot**\n",
    "\n",
    "* A graphical method for comparing two probability distributions by plotting their quantiles against each other.\n",
    "\n",
    "* In this instance, we are comparing the 'rotational speed' when standardised to the standard normal distribution.\n",
    "\n",
    "    * Blue: Ordered observed values vs corresponding z-scores\n",
    " \n",
    "        $z_{actual} = \\frac{x_{actual}-\\bar{x}}{s}$\n",
    "\n",
    "    * Red: Theoretical values vs theoretical z-scores\n",
    " \n",
    "        $x_{theory} = z_{theory}s + \\bar{x}$\n",
    "\n",
    "        Note: A z score of 0 corresponds to the 50th percentile\n",
    "\n",
    "* The distribution is not normal. Blue points do not lie on the red line and the y-intercept is not zero.\n",
    "\n",
    "Additional notes:\n",
    "\n",
    "* Theoretical quantiles (e.g. percentiles) may be plotted across the x-axis.\n",
    "\n",
    "* For a standard normal distribution, percentiles can be calculated using the $68-95-99.7$ rule:\n",
    "\n",
    "  <img src=\"./figures/percentiles_zscores.png\" align=\"centre\" width=\"350\" />\n",
    "\n",
    "* Note a q-q plot can be used to compare any two distributions. For non-normal distributions, the theoretical value of a random variable $X$ for a given percentile can be calculated using the inverse of its CDF:\n",
    "\n",
    "    $F_X(x)=P(X\\leq x)$\n",
    "\n",
    "    $F^{-1}(p)=x$\n",
    "\n",
    "    $F^{-1}(0.5)=x_{median}$\n",
    "  \n",
    "    *Where $F_X(x)$ is the CDF and its inverse $F^-1(p)$ is the quantile function.*"
   ]
  },
  {
   "cell_type": "code",
   "execution_count": 28,
   "id": "1ee31fc8-5403-4f58-a2e3-49f9a1371dcc",
   "metadata": {},
   "outputs": [
    {
     "data": {
      "text/plain": [
       "Text(0.5, 0, 'Theoretical quantiles')"
      ]
     },
     "execution_count": 28,
     "metadata": {},
     "output_type": "execute_result"
    },
    {
     "data": {
      "image/png": "[encoded data removed]",
      "text/plain": [
       "<Figure size 426.667x320 with 1 Axes>"
      ]
     },
     "metadata": {},
     "output_type": "display_data"
    }
   ],
   "source": [
    "# Q-Q plot\n",
    "fig, axes= plt.subplots(\n",
    "    nrows=1, ncols=1, constrained_layout=True, figsize=(6.4/1.5, 4.8/1.5)\n",
    ")\n",
    "probplot(raw_df['Rotational speed [rpm]'], dist=\"norm\", plot=axes)\n",
    "\n",
    "axes.tick_params(bottom=False, left=False)\n",
    "axes.grid(False)\n",
    "axes.spines[['top', 'right']].set_visible(False)\n",
    "axes.spines[['left', 'bottom']].set_color('dimgray')\n",
    "axes.set_title('Normal q-q plot', fontsize=10, color='dimgray')\n",
    "axes.set_ylabel('Observed values', fontsize=10, color='dimgray')\n",
    "axes.set_xlabel('Theoretical quantiles', fontsize=10, color='dimgray')"
   ]
  },
  {
   "cell_type": "markdown",
   "id": "13d9693c-c1e9-4725-b527-5516e949874b",
   "metadata": {},
   "source": [
    "**_2) Categorical variables_**\n",
    "* No duplicate values are present in 'UDI' and 'Product ID'\n",
    "\n",
    "* The distributions of 'Type', 'Target' and 'Failure Type' are imbalanced."
   ]
  },
  {
   "cell_type": "code",
   "execution_count": 29,
   "id": "c5eff2ee-0ca6-4f3f-9ad5-5f1d9828af49",
   "metadata": {},
   "outputs": [
    {
     "data": {
      "image/png": "[encoded data removed]",
      "text/plain": [
       "<Figure size 640x480 with 1 Axes>"
      ]
     },
     "metadata": {},
     "output_type": "display_data"
    }
   ],
   "source": [
    "# Cardinality\n",
    "fig, ax = plt.subplots(\n",
    "    nrows=1, ncols=1, constrained_layout=True, figsize=(6.4, 4.8))\n",
    "ax.tick_params(bottom=False, left=False)\n",
    "ax.grid(False)\n",
    "ax.spines[['top', 'right']].set_visible(False)\n",
    "ax.spines[['left', 'bottom']].set_color('dimgray')\n",
    "\n",
    "col_cardinality = raw_df.select_dtypes(include=['object', 'category']).nunique()\n",
    "bars = ax.bar(col_cardinality.index, col_cardinality.values, color='dimgray', alpha=0.8)\n",
    "ax.bar_label(bars, padding=1);"
   ]
  },
  {
   "cell_type": "code",
   "execution_count": 30,
   "id": "b6789720-2045-4669-aa23-3741365b8dac",
   "metadata": {},
   "outputs": [
    {
     "data": {
      "image/png": "[encoded data removed]",
      "text/plain": [
       "<Figure size 640x480 with 3 Axes>"
      ]
     },
     "metadata": {},
     "output_type": "display_data"
    }
   ],
   "source": [
    "# Frequency plots\n",
    "fig, axes = plt.subplots(\n",
    "    nrows=3, ncols=1, constrained_layout=True, figsize=(6.4, 4.8)\n",
    ")\n",
    "i = 0\n",
    "for col in ['Type', 'Target', 'Failure Type']:\n",
    "    counts = raw_df[col].value_counts()\n",
    "    percs = raw_df[col].value_counts(normalize=True)\n",
    "    rects = axes[i].barh(counts.index, counts.values,\n",
    "                         color='dimgray', alpha=0.8)\n",
    "    axes[i].bar_label(rects, labels=[str(round(x*100, 1)) +\n",
    "                      '%' for x in percs.values], padding=3)\n",
    "    axes[i].set_title(col, fontsize=10, color='dimgray')\n",
    "    i += 1\n",
    "for ax in axes:\n",
    "    ax.tick_params(bottom=False, left=False)\n",
    "    ax.grid(False)\n",
    "    ax.spines[['top', 'right']].set_visible(False)\n",
    "    ax.spines[['left', 'bottom']].set_color('dimgray')"
   ]
  },
  {
   "cell_type": "markdown",
   "id": "d60d1fc2-bd73-4b03-97e5-dbea8a3c8739",
   "metadata": {},
   "source": [
    "## Missing values\n",
    "* No missing values are present."
   ]
  },
  {
   "cell_type": "code",
   "execution_count": 31,
   "id": "8b9ed084-37a2-4143-a5f6-a22adcb26d03",
   "metadata": {},
   "outputs": [
    {
     "data": {
      "text/html": [
       "<div>\n",
       "<style scoped>\n",
       "    .dataframe tbody tr th:only-of-type {\n",
       "        vertical-align: middle;\n",
       "    }\n",
       "\n",
       "    .dataframe tbody tr th {\n",
       "        vertical-align: top;\n",
       "    }\n",
       "\n",
       "    .dataframe thead th {\n",
       "        text-align: right;\n",
       "    }\n",
       "</style>\n",
       "<table border=\"1\" class=\"dataframe\">\n",
       "  <thead>\n",
       "    <tr style=\"text-align: right;\">\n",
       "      <th></th>\n",
       "      <th>Count</th>\n",
       "      <th>%</th>\n",
       "    </tr>\n",
       "  </thead>\n",
       "  <tbody>\n",
       "  </tbody>\n",
       "</table>\n",
       "</div>"
      ],
      "text/plain": [
       "Empty DataFrame\n",
       "Columns: [Count, %]\n",
       "Index: []"
      ]
     },
     "metadata": {},
     "output_type": "display_data"
    },
    {
     "name": "stdout",
     "output_type": "stream",
     "text": [
      "Number of rows with more than one missing value: 0\n"
     ]
    }
   ],
   "source": [
    "# Identify columns with missing values\n",
    "nan_summary = pd.concat(\n",
    "    [raw_df.isnull().sum()[(raw_df.isnull().sum() > 1)],\n",
    "     raw_df.isnull().sum()[(raw_df.isnull().sum() > 1)] / raw_df.shape[0]],\n",
    "    axis=1, keys=['Count', '%']\n",
    ")\n",
    "display(nan_summary)\n",
    "\n",
    "# Count rows with more than one missing value\n",
    "rows_with_multiple_missing = raw_df[raw_df.isnull().sum(axis=1) > 1]\n",
    "print(f\"Number of rows with more than one missing value: {len(rows_with_multiple_missing)}\")"
   ]
  },
  {
   "cell_type": "markdown",
   "id": "85f93320-b3e2-4559-b975-87bb96bb7ae0",
   "metadata": {},
   "source": [
    "# Data cleansing"
   ]
  },
  {
   "cell_type": "markdown",
   "id": "b2ac0747-f0df-49cf-b080-8c11b4368637",
   "metadata": {},
   "source": [
    "## Erroneous data\n",
    "* No duplicate rows are present.\n",
    "\n",
    "* Data exploration did not reveal any errors."
   ]
  },
  {
   "cell_type": "code",
   "execution_count": 32,
   "id": "1e8727cf-605a-4290-9c4f-33ec2392433c",
   "metadata": {},
   "outputs": [
    {
     "data": {
      "text/html": [
       "<div>\n",
       "<style scoped>\n",
       "    .dataframe tbody tr th:only-of-type {\n",
       "        vertical-align: middle;\n",
       "    }\n",
       "\n",
       "    .dataframe tbody tr th {\n",
       "        vertical-align: top;\n",
       "    }\n",
       "\n",
       "    .dataframe thead th {\n",
       "        text-align: right;\n",
       "    }\n",
       "</style>\n",
       "<table border=\"1\" class=\"dataframe\">\n",
       "  <thead>\n",
       "    <tr style=\"text-align: right;\">\n",
       "      <th></th>\n",
       "      <th>UDI</th>\n",
       "      <th>Product ID</th>\n",
       "      <th>Type</th>\n",
       "      <th>Air temperature [K]</th>\n",
       "      <th>Process temperature [K]</th>\n",
       "      <th>Rotational speed [rpm]</th>\n",
       "      <th>Torque [Nm]</th>\n",
       "      <th>Tool wear [min]</th>\n",
       "      <th>Target</th>\n",
       "      <th>Failure Type</th>\n",
       "    </tr>\n",
       "  </thead>\n",
       "  <tbody>\n",
       "  </tbody>\n",
       "</table>\n",
       "</div>"
      ],
      "text/plain": [
       "Empty DataFrame\n",
       "Columns: [UDI, Product ID, Type, Air temperature [K], Process temperature [K], Rotational speed [rpm], Torque [Nm], Tool wear [min], Target, Failure Type]\n",
       "Index: []"
      ]
     },
     "execution_count": 32,
     "metadata": {},
     "output_type": "execute_result"
    }
   ],
   "source": [
    "raw_df[raw_df.duplicated()]"
   ]
  },
  {
   "cell_type": "markdown",
   "id": "66948166-4186-4516-9683-99d2d460ed48",
   "metadata": {},
   "source": [
    "## Train/test split\n",
    "* The raw data is divided using an 80/20 train/test split."
   ]
  },
  {
   "cell_type": "code",
   "execution_count": 33,
   "id": "abac8f4d-e56c-46c9-a5b5-6d3f58b8c3ac",
   "metadata": {},
   "outputs": [
    {
     "name": "stdout",
     "output_type": "stream",
     "text": [
      "Train set dimensions: (8000, 10)\n",
      "Test set dimensions: (2000, 10)\n"
     ]
    }
   ],
   "source": [
    "# Divide train/test data\n",
    "X_cols = [x for x in raw_df.columns if x != 'Target' and x!= 'Failure Type']\n",
    "X_train, X_test, y_train, y_test = train_test_split(\n",
    "    raw_df[X_cols], raw_df[['Target', 'Failure Type']], test_size=0.2, random_state=42\n",
    ")\n",
    "train_df = pd.concat([X_train, y_train], axis=1).reset_index(drop=True)\n",
    "test_df = pd.concat([X_test, y_test], axis=1).reset_index(drop=True)\n",
    "\n",
    "print(f'Train set dimensions: {train_df.shape}')\n",
    "print(f'Test set dimensions: {test_df.shape}')"
   ]
  },
  {
   "cell_type": "markdown",
   "id": "0008db90-30c0-4cac-bae5-035239ee057d",
   "metadata": {},
   "source": [
    "## Missing value imputation\n",
    "* No missing values are present."
   ]
  },
  {
   "cell_type": "code",
   "execution_count": 34,
   "id": "15f4ad3b-870a-4668-8d31-4d39da08b2c4",
   "metadata": {},
   "outputs": [
    {
     "name": "stdout",
     "output_type": "stream",
     "text": [
      "\n",
      "-----------------------------Missing values in training set-----------------------------\n"
     ]
    },
    {
     "data": {
      "text/html": [
       "<div>\n",
       "<style scoped>\n",
       "    .dataframe tbody tr th:only-of-type {\n",
       "        vertical-align: middle;\n",
       "    }\n",
       "\n",
       "    .dataframe tbody tr th {\n",
       "        vertical-align: top;\n",
       "    }\n",
       "\n",
       "    .dataframe thead th {\n",
       "        text-align: right;\n",
       "    }\n",
       "</style>\n",
       "<table border=\"1\" class=\"dataframe\">\n",
       "  <thead>\n",
       "    <tr style=\"text-align: right;\">\n",
       "      <th></th>\n",
       "      <th>Count</th>\n",
       "      <th>%</th>\n",
       "    </tr>\n",
       "  </thead>\n",
       "  <tbody>\n",
       "  </tbody>\n",
       "</table>\n",
       "</div>"
      ],
      "text/plain": [
       "Empty DataFrame\n",
       "Columns: [Count, %]\n",
       "Index: []"
      ]
     },
     "metadata": {},
     "output_type": "display_data"
    },
    {
     "name": "stdout",
     "output_type": "stream",
     "text": [
      "\n",
      "-----------------------------Missing values in test set-----------------------------\n"
     ]
    },
    {
     "data": {
      "text/html": [
       "<div>\n",
       "<style scoped>\n",
       "    .dataframe tbody tr th:only-of-type {\n",
       "        vertical-align: middle;\n",
       "    }\n",
       "\n",
       "    .dataframe tbody tr th {\n",
       "        vertical-align: top;\n",
       "    }\n",
       "\n",
       "    .dataframe thead th {\n",
       "        text-align: right;\n",
       "    }\n",
       "</style>\n",
       "<table border=\"1\" class=\"dataframe\">\n",
       "  <thead>\n",
       "    <tr style=\"text-align: right;\">\n",
       "      <th></th>\n",
       "      <th>Count</th>\n",
       "      <th>%</th>\n",
       "    </tr>\n",
       "  </thead>\n",
       "  <tbody>\n",
       "  </tbody>\n",
       "</table>\n",
       "</div>"
      ],
      "text/plain": [
       "Empty DataFrame\n",
       "Columns: [Count, %]\n",
       "Index: []"
      ]
     },
     "metadata": {},
     "output_type": "display_data"
    }
   ],
   "source": [
    "# Missing values in the training data\n",
    "train_nan_summary = pd.concat([train_df.isnull().sum()[(train_df.isnull().sum() > 1)],\n",
    "                               train_df.isnull().sum()[(train_df.isnull().sum() > 1)] / train_df.shape[0]],\n",
    "                              axis=1, keys=['Count', '%']\n",
    "                             )\n",
    "\n",
    "# Missing values in the test data\n",
    "test_nan_summary = pd.concat([test_df.isnull().sum()[(test_df.isnull().sum() > 1)],\n",
    "                               test_df.isnull().sum()[(test_df.isnull().sum() > 1)] / test_df.shape[0]],\n",
    "                              axis=1, keys=['Count', '%']\n",
    "                             )\n",
    "print(f'\\n-----------------------------Missing values in training set-----------------------------')\n",
    "display(train_nan_summary)\n",
    "print(f'\\n-----------------------------Missing values in test set-----------------------------')\n",
    "display(test_nan_summary)"
   ]
  },
  {
   "cell_type": "markdown",
   "id": "e8a16594-c2a9-48ff-9b44-f10eba73bbf5",
   "metadata": {},
   "source": [
    "## Outliers\n",
    "* The Rotational Speed column has a positive skew. However, no outliers are obviously present.\n",
    "\n",
    "    Note: The influence of large values on later modelling will be assessed. If a point significantly affects outcomes, it may be excluded."
   ]
  },
  {
   "cell_type": "markdown",
   "id": "a5f79f02-8f1e-4f48-b442-0e90a1a9f61d",
   "metadata": {},
   "source": [
    "# Save\n",
    "* Target will be dropped as the goal is to predict type of failure."
   ]
  },
  {
   "cell_type": "code",
   "execution_count": 35,
   "id": "a968b2fc-496d-468d-8c76-bd1160d2c2d5",
   "metadata": {},
   "outputs": [],
   "source": [
    "train_df = train_df.drop(columns='Target')\n",
    "test_df = test_df.drop(columns='Target')\n",
    "\n",
    "train_df.to_csv('../data/cleaned/clean_train.csv', index=False)\n",
    "test_df.to_csv('../data/cleaned/clean_test.csv', index=False)"
   ]
  }
 ],
 "metadata": {
  "kernelspec": {
   "display_name": "topic_analyses",
   "language": "python",
   "name": "topic_analyses"
  },
  "language_info": {
   "codemirror_mode": {
    "name": "ipython",
    "version": 3
   },
   "file_extension": ".py",
   "mimetype": "text/x-python",
   "name": "python",
   "nbconvert_exporter": "python",
   "pygments_lexer": "ipython3",
   "version": "3.11.5"
  }
 },
 "nbformat": 4,
 "nbformat_minor": 5
}
